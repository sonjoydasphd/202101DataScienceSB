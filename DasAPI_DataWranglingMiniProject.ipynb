{
 "cells": [
  {
   "cell_type": "markdown",
   "metadata": {},
   "source": [
    "This exercise will require you to pull some data from the Qunadl API. Qaundl is currently the most widely used aggregator of financial market data."
   ]
  },
  {
   "cell_type": "markdown",
   "metadata": {},
   "source": [
    "As a first step, you will need to register a free account on the http://www.quandl.com website."
   ]
  },
  {
   "cell_type": "markdown",
   "metadata": {},
   "source": [
    "After you register, you will be provided with a unique API key, that you should store:"
   ]
  },
  {
   "cell_type": "code",
   "execution_count": 1,
   "metadata": {
    "tags": []
   },
   "outputs": [],
   "source": [
    "# [API_KEY is not required !]\n",
    "#\n",
    "# Store the API key as a string - according to PEP8, constants are always named in all upper case\n",
    "# API_KEY = 'YOUR_API_KEY_HERE'\n"
   ]
  },
  {
   "cell_type": "markdown",
   "metadata": {},
   "source": [
    "Qaundl has a large number of data sources, but, unfortunately, most of them require a Premium subscription. Still, there are also a good number of free datasets."
   ]
  },
  {
   "cell_type": "markdown",
   "metadata": {},
   "source": [
    "For this mini project, we will focus on equities data from the Frankfurt Stock Exchange (FSE), which is available for free. We'll try and analyze the stock prices of a company called Carl Zeiss Meditec, which manufactures tools for eye examinations, as well as medical lasers for laser eye surgery: https://www.zeiss.com/meditec/int/home.html. The company is listed under the stock ticker AFX_X."
   ]
  },
  {
   "cell_type": "markdown",
   "metadata": {},
   "source": [
    "You can find the detailed Quandl API instructions here: https://docs.quandl.com/docs/time-series"
   ]
  },
  {
   "cell_type": "markdown",
   "metadata": {},
   "source": [
    "While there is a dedicated Python package for connecting to the Quandl API, we would prefer that you use the *requests* package, which can be easily downloaded using *pip* or *conda*. You can find the documentation for the package here: http://docs.python-requests.org/en/master/ "
   ]
  },
  {
   "cell_type": "markdown",
   "metadata": {},
   "source": [
    "Finally, apart from the *requests* package, you are encouraged to not use any third party Python packages, such as *pandas*, and instead focus on what's available in the Python Standard Library (the *collections* module might come in handy: https://pymotw.com/3/collections/ ).\n",
    "Also, since you won't have access to DataFrames, you are encouraged to us Python's native data structures - preferably dictionaries, though some questions can also be answered using lists.\n",
    "You can read more on these data structures here: https://docs.python.org/3/tutorial/datastructures.html"
   ]
  },
  {
   "cell_type": "markdown",
   "metadata": {},
   "source": [
    "Keep in mind that the JSON responses you will be getting from the API map almost one-to-one to Python's dictionaries. Unfortunately, they can be very nested, so make sure you read up on indexing dictionaries in the documentation provided above."
   ]
  },
  {
   "cell_type": "code",
   "execution_count": 2,
   "metadata": {
    "tags": []
   },
   "outputs": [],
   "source": [
    "# First, import the relevant modules\n",
    "import requests\n",
    "\n",
    "# Load the pyplot collection of functions from matplotlib, as plt \n",
    "import matplotlib.pyplot as plt\n",
    "\n",
    "# To print some colored text output:\n",
    "class fontstyle:\n",
    "    PURPLE = '\\033[95m'\n",
    "    CYAN = '\\033[96m'\n",
    "    DARKCYAN = '\\033[36m'\n",
    "    BLUE = '\\033[94m'\n",
    "    GREEN = '\\033[92m'\n",
    "    BRIGHTGREEN = '\\033[32m'\n",
    "    YELLOW = '\\033[93m'\n",
    "    RED = '\\033[91m'\n",
    "    BOLD = '\\033[1m'\n",
    "    UNDERLINE = '\\033[4m'\n",
    "    BACKGROUNDYELLOW = '\\033[43m'\n",
    "    BACKGROUNDLIGHTYELLOW = '\\033[0;43m'\n",
    "    END = '\\033[0m'\n",
    "    \n",
    "# Use the following to print colored and bold text\n",
    "# print(fontstyle.BOLD + fontstyle.UNDERLINE +  fontstyle.CYAN + fontstyle.BACKGROUNDYELLOW + 'Hello World !' + fontstyle.END)"
   ]
  },
  {
   "cell_type": "markdown",
   "metadata": {},
   "source": [
    "Note: API's can change a bit with each version, for this exercise it is reccomended to use the \"V3\" quandl api at `https://www.quandl.com/api/v3/`"
   ]
  },
  {
   "cell_type": "markdown",
   "metadata": {},
   "source": [
    "## Steps to verify {database_code} and {dataset_code}:\n",
    "\n",
    "Since it is difficult find them directly through quandl website, follow the steps below:\n",
    "\n",
    "* Search in google: \"Frankfurt Stock Exchange quandl database code\".\n",
    "\n",
    "* Click on the link (see picture): FSE/RHM_X - Quandl (https://www.quandl.com/data/FSE/RHM_X-Rheinmetall-RHM_X)\n",
    "\n",
    "<div>\n",
    "<img src=\"QuandlFreeDatabase_1.png\" width=\"500\"/>\n",
    "</div>\n",
    "\n",
    "* You are now within quandl (https://www.quandl.com/data/FSE/RHM_X-Rheinmetall-RHM_X). Click the 'back' button to go to the main page of Frankfurt Stock Exchange (Do not click the browser back button). See picture.\n",
    "\n",
    "<div>\n",
    "<img src=\"QuandlFreeDatabase_2.png\" width=\"300\"/>\n",
    "</div>\n",
    "\n",
    "* You are now in Frankfurt Stock Exchange database. Verify that it's Free Data. \n",
    "\n",
    "<div>\n",
    "<img src=\"QuandlFreeDatabase_3.png\" width=\"600\"/>\n",
    "</div>\n",
    "\n",
    "\n",
    "* You can either browse all the 160 tickers or just search for the company of your interest: Carl Zeiss Meditec.\n",
    "\n",
    "<div>\n",
    "<img src=\"QuandlFreeDatabase_4.png\" width=\"600\"/>\n",
    "</div>\n",
    "\n",
    "\n",
    "* Once you click on the company name, you will find all the details that you possibly need. By default, the entire time-series will be presented. I have only selected the data for the entire 2017 year to see how it's supposed to look in their website. Here, I have chosen to show the `closing price` for the entire year 2017. Another interesting thing I found is link under \"Validate\". It's referring to XFRA which is a paid database.\n",
    "\n",
    "<div>\n",
    "<img src=\"QuandlFreeDatabase_5.png\" width=\"800\"/>\n",
    "</div>\n",
    "\n"
   ]
  },
  {
   "cell_type": "code",
   "execution_count": 3,
   "metadata": {},
   "outputs": [],
   "source": [
    "# Pre-task 1a: Collect data from the Franfurt Stock Exchange, for the ticker AFX_X\n",
    "#\n",
    "# Define a function to create the specific url\n",
    "# More details: https://docs.quandl.com/docs/parameters-2\n",
    "def determine_url(start_date,end_date):\n",
    "    database_code = 'FSE'\n",
    "    dataset_code = 'AFX_X'\n",
    "    file_format = 'json' # 'json' or 'csv'. See: https://docs.quandl.com/docs/in-depth-usage\n",
    "    url = 'https://www.quandl.com/api/v3/datasets/'+database_code+'/'+dataset_code\n",
    "    url = url + '/data.' + file_format + '?start_date='+start_date+'&end_date='+end_date\n",
    "\n",
    "    # Return data in ascending order\n",
    "    url = url + '&order=asc'\n",
    "\n",
    "    return url\n"
   ]
  },
  {
   "cell_type": "code",
   "execution_count": 4,
   "metadata": {
    "tags": []
   },
   "outputs": [
    {
     "name": "stdout",
     "output_type": "stream",
     "text": [
      "https://www.quandl.com/api/v3/datasets/FSE/AFX_X/data.json?start_date=2017-01-02&end_date=2017-01-04&order=asc\n"
     ]
    }
   ],
   "source": [
    "# Pre-task 1b: Collect data from the Franfurt Stock Exchange, for the ticker AFX_X\n",
    "# Now, call the Quandl API and pull out a small sample of the data (only one day) to get a glimpse\n",
    "# into the JSON structure that will be returned\n",
    "\n",
    "# Instead of just one day, we are going to pull data for 3 days.\n",
    "start_date = '2017-01-02'\n",
    "end_date = '2017-01-04'\n",
    "url = determine_url(start_date,end_date)\n",
    "print(url)"
   ]
  },
  {
   "cell_type": "code",
   "execution_count": 5,
   "metadata": {},
   "outputs": [],
   "source": [
    "# Pre-task 1c: Collect data from the Franfurt Stock Exchange, for the ticker AFX_X\n",
    "# Make a request to get the webpage in the \"Response\" object, r.\n",
    "r = requests.get(url)"
   ]
  },
  {
   "cell_type": "code",
   "execution_count": 6,
   "metadata": {},
   "outputs": [
    {
     "data": {
      "text/plain": [
       "requests.models.Response"
      ]
     },
     "execution_count": 6,
     "metadata": {},
     "output_type": "execute_result"
    }
   ],
   "source": [
    "# The object r is a JSON Response object\n",
    "type(r)"
   ]
  },
  {
   "cell_type": "code",
   "execution_count": 7,
   "metadata": {},
   "outputs": [
    {
     "name": "stdout",
     "output_type": "stream",
     "text": [
      "{\"dataset_data\":{\"limit\":null,\"transform\":null,\"column_index\":null,\"column_names\":[\"Date\",\"Open\",\"High\",\"Low\",\"Close\",\"Change\",\"Traded Volume\",\"Turnover\",\"Last Price of the Day\",\"Daily Traded Units\",\"Daily Turnover\"],\"start_date\":\"2017-01-02\",\"end_date\":\"2017-01-04\",\"frequency\":\"daily\",\"data\":[[\"2017-01-02\",34.99,35.94,34.99,35.8,null,44700.0,1590561.0,null,null,null],[\"2017-01-03\",35.9,35.93,35.34,35.48,null,70618.0,2515473.0,null,null,null],[\"2017-01-04\",35.48,35.51,34.75,35.19,null,54408.0,1906810.0,null,null,null]],\"collapse\":null,\"order\":\"asc\"}}\n"
     ]
    }
   ],
   "source": [
    "text = r.text\n",
    "print(text)"
   ]
  },
  {
   "cell_type": "code",
   "execution_count": 8,
   "metadata": {},
   "outputs": [],
   "source": [
    "# Inspect the JSON structure of the object created above, and take note of how nested it is,\n",
    "# as well as the overall structure"
   ]
  },
  {
   "cell_type": "raw",
   "metadata": {
    "tags": []
   },
   "source": [
    "# To inspect the JSON structure, let's re-write 'r.text' by opening up and pretifying all the braces carefully:\n",
    "\n",
    "\n",
    "{\n",
    "    \"dataset_data\":{\n",
    "        \"limit\":null,\n",
    "        \"transform\":null,\n",
    "        \"column_index\":null,\n",
    "        \"column_names\":[\n",
    "            \"Date\",\n",
    "            \"Open\",\n",
    "            \"High\",\n",
    "            \"Low\",\n",
    "            \"Close\",\n",
    "            \"Change\",\n",
    "            \"Traded Volume\",\n",
    "            \"Turnover\",\n",
    "            \"Last Price of the Day\",\n",
    "            \"Daily Traded Units\",\n",
    "            \"Daily Turnover\"\n",
    "            ],\n",
    "        \"start_date\":\"2017-01-02\",\n",
    "        \"end_date\":\"2017-01-04\",\n",
    "        \"frequency\":\"daily\",\n",
    "        \"data\":[\n",
    "            [\n",
    "                \"2017-01-02\",\n",
    "                34.99,\n",
    "                35.94,\n",
    "                34.99,\n",
    "                35.8,\n",
    "                null,\n",
    "                44700.0,\n",
    "                1590561.0,\n",
    "                null,\n",
    "                null,\n",
    "                null\n",
    "            ],\n",
    "            [\n",
    "                \"2017-01-03\",\n",
    "                35.9,\n",
    "                35.93,\n",
    "                35.34,\n",
    "                35.48,\n",
    "                null,\n",
    "                70618.0,\n",
    "                2515473.0,\n",
    "                null,\n",
    "                null,\n",
    "                null\n",
    "            ],\n",
    "            [\n",
    "                \"2017-01-04\",\n",
    "                35.48,\n",
    "                35.51,\n",
    "                34.75,\n",
    "                35.19,\n",
    "                null,\n",
    "                54408.0,\n",
    "                1906810.0,\n",
    "                null,\n",
    "                null,\n",
    "                null\n",
    "            ]\n",
    "        ],\n",
    "        \"collapse\":null,\n",
    "        \"order\":\"asc\"\n",
    "    }\n",
    "}"
   ]
  },
  {
   "cell_type": "code",
   "execution_count": 9,
   "metadata": {},
   "outputs": [
    {
     "name": "stdout",
     "output_type": "stream",
     "text": [
      "dataset_data: {'limit': None, 'transform': None, 'column_index': None, 'column_names': ['Date', 'Open', 'High', 'Low', 'Close', 'Change', 'Traded Volume', 'Turnover', 'Last Price of the Day', 'Daily Traded Units', 'Daily Turnover'], 'start_date': '2017-01-02', 'end_date': '2017-01-04', 'frequency': 'daily', 'data': [['2017-01-02', 34.99, 35.94, 34.99, 35.8, None, 44700.0, 1590561.0, None, None, None], ['2017-01-03', 35.9, 35.93, 35.34, 35.48, None, 70618.0, 2515473.0, None, None, None], ['2017-01-04', 35.48, 35.51, 34.75, 35.19, None, 54408.0, 1906810.0, None, None, None]], 'collapse': None, 'order': 'asc'}\n"
     ]
    }
   ],
   "source": [
    "# Pre-task 2a: Convert the returned JSON object into a Python dictionary\n",
    "json_data = r.json()\n",
    "for key, value in json_data.items():\n",
    "    print(key + ':', value)"
   ]
  },
  {
   "cell_type": "code",
   "execution_count": 10,
   "metadata": {},
   "outputs": [
    {
     "data": {
      "text/plain": [
       "dict"
      ]
     },
     "execution_count": 10,
     "metadata": {},
     "output_type": "execute_result"
    }
   ],
   "source": [
    "type(json_data)"
   ]
  },
  {
   "cell_type": "markdown",
   "metadata": {},
   "source": [
    "### Inspect how nested the JSON structure of the dictionary object, `json_data`, is."
   ]
  },
  {
   "cell_type": "code",
   "execution_count": 11,
   "metadata": {
    "tags": []
   },
   "outputs": [
    {
     "data": {
      "text/plain": [
       "{'dataset_data': {'limit': None,\n",
       "  'transform': None,\n",
       "  'column_index': None,\n",
       "  'column_names': ['Date',\n",
       "   'Open',\n",
       "   'High',\n",
       "   'Low',\n",
       "   'Close',\n",
       "   'Change',\n",
       "   'Traded Volume',\n",
       "   'Turnover',\n",
       "   'Last Price of the Day',\n",
       "   'Daily Traded Units',\n",
       "   'Daily Turnover'],\n",
       "  'start_date': '2017-01-02',\n",
       "  'end_date': '2017-01-04',\n",
       "  'frequency': 'daily',\n",
       "  'data': [['2017-01-02',\n",
       "    34.99,\n",
       "    35.94,\n",
       "    34.99,\n",
       "    35.8,\n",
       "    None,\n",
       "    44700.0,\n",
       "    1590561.0,\n",
       "    None,\n",
       "    None,\n",
       "    None],\n",
       "   ['2017-01-03',\n",
       "    35.9,\n",
       "    35.93,\n",
       "    35.34,\n",
       "    35.48,\n",
       "    None,\n",
       "    70618.0,\n",
       "    2515473.0,\n",
       "    None,\n",
       "    None,\n",
       "    None],\n",
       "   ['2017-01-04',\n",
       "    35.48,\n",
       "    35.51,\n",
       "    34.75,\n",
       "    35.19,\n",
       "    None,\n",
       "    54408.0,\n",
       "    1906810.0,\n",
       "    None,\n",
       "    None,\n",
       "    None]],\n",
       "  'collapse': None,\n",
       "  'order': 'asc'}}"
      ]
     },
     "execution_count": 11,
     "metadata": {},
     "output_type": "execute_result"
    }
   ],
   "source": [
    "# Pre-task 2b: Convert the returned JSON object into a Python dictionary\n",
    "json_data"
   ]
  },
  {
   "cell_type": "code",
   "execution_count": 12,
   "metadata": {
    "tags": []
   },
   "outputs": [
    {
     "data": {
      "text/plain": [
       "[['2017-01-02',\n",
       "  34.99,\n",
       "  35.94,\n",
       "  34.99,\n",
       "  35.8,\n",
       "  None,\n",
       "  44700.0,\n",
       "  1590561.0,\n",
       "  None,\n",
       "  None,\n",
       "  None],\n",
       " ['2017-01-03',\n",
       "  35.9,\n",
       "  35.93,\n",
       "  35.34,\n",
       "  35.48,\n",
       "  None,\n",
       "  70618.0,\n",
       "  2515473.0,\n",
       "  None,\n",
       "  None,\n",
       "  None],\n",
       " ['2017-01-04',\n",
       "  35.48,\n",
       "  35.51,\n",
       "  34.75,\n",
       "  35.19,\n",
       "  None,\n",
       "  54408.0,\n",
       "  1906810.0,\n",
       "  None,\n",
       "  None,\n",
       "  None]]"
      ]
     },
     "execution_count": 12,
     "metadata": {},
     "output_type": "execute_result"
    }
   ],
   "source": [
    "json_data['dataset_data']['data']"
   ]
  },
  {
   "cell_type": "code",
   "execution_count": 13,
   "metadata": {},
   "outputs": [],
   "source": [
    "# Pre-task 3a: Calculate the highest and lowest opening prices\n",
    "#\n",
    "# Define function to extract the values of a specified column with 'colum_label'\n",
    "\n",
    "def extractColumn(jsonData,colum_label):\n",
    "    \n",
    "    indexColumn = jsonData['dataset_data']['column_names'].index(colum_label)\n",
    "    listColumn_values = []\n",
    "    for datalist in jsonData['dataset_data']['data']:\n",
    "        listColumn_values.append(datalist[indexColumn])\n",
    "    \n",
    "    return listColumn_values"
   ]
  },
  {
   "cell_type": "code",
   "execution_count": 14,
   "metadata": {},
   "outputs": [
    {
     "data": {
      "text/plain": [
       "(list, [34.99, 35.9, 35.48], 35.9, 34.99)"
      ]
     },
     "execution_count": 14,
     "metadata": {},
     "output_type": "execute_result"
    }
   ],
   "source": [
    "# Pre-task 3b\n",
    "openingPrices = extractColumn(json_data,'Open')\n",
    "type(openingPrices), openingPrices, max(openingPrices), min(openingPrices)"
   ]
  },
  {
   "cell_type": "code",
   "execution_count": 15,
   "metadata": {},
   "outputs": [],
   "source": [
    "# Pre-task 4a: What was the largest change in any one day based on High and Low price?\n",
    "#\n",
    "\n",
    "# Define a function to extract the largest change in elements between two lists, \n",
    "# and the corresponding date from the JSON structure of the stcok price data.\n",
    "\n",
    "def findMaxDiff_Date(list1,list2,jsonData):\n",
    "    diff = list(map(lambda x, y: x - y, list1, list2))\n",
    "    maxvalue = max(diff)\n",
    "    \n",
    "    indexDate = diff.index(maxvalue)\n",
    "    maxvalueDate = jsonData['dataset_data']['data'][indexDate][0]\n",
    "    \n",
    "    return maxvalue, maxvalueDate\n",
    "\n"
   ]
  },
  {
   "cell_type": "code",
   "execution_count": 16,
   "metadata": {},
   "outputs": [
    {
     "data": {
      "text/plain": [
       "([35.94, 35.93, 35.51],\n",
       " [34.99, 35.34, 34.75],\n",
       " (0.9499999999999957, '2017-01-02'))"
      ]
     },
     "execution_count": 16,
     "metadata": {},
     "output_type": "execute_result"
    }
   ],
   "source": [
    "# Pre-task 4b\n",
    "highPrices = extractColumn(json_data,'High')\n",
    "lowPrices = extractColumn(json_data,'Low')\n",
    "\n",
    "highPrices, lowPrices, findMaxDiff_Date(highPrices,lowPrices,json_data)\n"
   ]
  },
  {
   "cell_type": "code",
   "execution_count": 17,
   "metadata": {},
   "outputs": [],
   "source": [
    "# Pre-task 5a: What was the largest change between any two days (based on Closing Price)?\n",
    "# Here, we are going to find the maximum change between two **SUCCESSIVE** days and \n",
    "# the corresponding dates.\n",
    "#\n",
    "#\n",
    "# Define a function to find the absolute differences between **SUCCESSIVE** elements of a \n",
    "# list, and then find the maximum of these absolute differences. Finally, also return the \n",
    "# those two dates from the JSON structure of the stcok price data.\n",
    "\n",
    "def findMaxAbsDiffSuccessiveElements_Dates(list_num,jsonData):\n",
    "    diffSuccessiveElements = [j-i for i, j in zip(list_num[:-1], list_num[1:])]\n",
    "    absDiff = list(map(abs, diffSuccessiveElements))\n",
    "    maxabsDiff = max(absDiff)\n",
    "    \n",
    "    indexDate1 = absDiff.index(maxabsDiff)\n",
    "    indexDate2 = indexDate1 + 1\n",
    "    maxDiffDate1 = jsonData['dataset_data']['data'][indexDate1][0]\n",
    "    maxDiffDate2 = jsonData['dataset_data']['data'][indexDate2][0]\n",
    "    \n",
    "    return maxabsDiff, maxDiffDate1, maxDiffDate2\n"
   ]
  },
  {
   "cell_type": "code",
   "execution_count": 18,
   "metadata": {},
   "outputs": [
    {
     "data": {
      "text/plain": [
       "([35.8, 35.48, 35.19], (0.3200000000000003, '2017-01-02', '2017-01-03'))"
      ]
     },
     "execution_count": 18,
     "metadata": {},
     "output_type": "execute_result"
    }
   ],
   "source": [
    "# Pre-task 5b\n",
    "closingPrices = extractColumn(json_data,'Close')\n",
    "closingPrices, findMaxAbsDiffSuccessiveElements_Dates(closingPrices,json_data)"
   ]
  },
  {
   "cell_type": "code",
   "execution_count": 19,
   "metadata": {},
   "outputs": [
    {
     "data": {
      "text/plain": [
       "(-0.3200000000000003, -0.28999999999999915)"
      ]
     },
     "execution_count": 19,
     "metadata": {},
     "output_type": "execute_result"
    }
   ],
   "source": [
    "# Just checking manually\n",
    "35.48-35.8, 35.19-35.48"
   ]
  },
  {
   "cell_type": "code",
   "execution_count": 20,
   "metadata": {},
   "outputs": [],
   "source": [
    "# Pre-task 5a'\n",
    "# If we consider **ANY** two days, then it's simply the difference between maximum and \n",
    "# minimum values, i.e., the range\n",
    "#\n",
    "#\n",
    "# Define a function to find the corresponding change, and also return those dates from \n",
    "# the JSON structure of the stcok price data.\n",
    "\n",
    "def findRange_Dates(list_num,jsonData):\n",
    "    maxvalue = max(list_num)\n",
    "    minvalue = min(list_num)\n",
    "        \n",
    "    maxvalueDate = jsonData['dataset_data']['data'][list_num.index(maxvalue)][0]\n",
    "    minvalueDate = jsonData['dataset_data']['data'][list_num.index(minvalue)][0]\n",
    "    \n",
    "    rangevalue = maxvalue - minvalue\n",
    "\n",
    "    return rangevalue, maxvalueDate, minvalueDate\n"
   ]
  },
  {
   "cell_type": "code",
   "execution_count": 21,
   "metadata": {},
   "outputs": [
    {
     "data": {
      "text/plain": [
       "([35.8, 35.48, 35.19], (0.6099999999999994, '2017-01-02', '2017-01-04'))"
      ]
     },
     "execution_count": 21,
     "metadata": {},
     "output_type": "execute_result"
    }
   ],
   "source": [
    "# Pre-task 5b'\n",
    "closingPrices, findRange_Dates(closingPrices,json_data)"
   ]
  },
  {
   "cell_type": "code",
   "execution_count": 22,
   "metadata": {},
   "outputs": [
    {
     "data": {
      "text/plain": [
       "0.6099999999999994"
      ]
     },
     "execution_count": 22,
     "metadata": {},
     "output_type": "execute_result"
    }
   ],
   "source": [
    "# Just checking manually\n",
    "35.8 - 35.19"
   ]
  },
  {
   "cell_type": "code",
   "execution_count": 23,
   "metadata": {},
   "outputs": [],
   "source": [
    "# Pre-task 5c (additional interesting task):\n",
    "#\n",
    "# Define a function to find **MINIMUM** difference between ANY two (not necessarily \n",
    "# successive days) days, and also return the corresponding dates.\n",
    "  \n",
    "# Define a function to find the minimum difference between any pair of elements, and \n",
    "# also return the corresponding dates from the JSON structure of the stcok price data.\n",
    "\n",
    "def findMinChange_Dates(list_num,jsonData):\n",
    "    \n",
    "    # Initialize difference as a large number\n",
    "    mindiff = 10**20\n",
    "    \n",
    "    n = len(list_num)\n",
    "      \n",
    "    # Find the min diff by comparing difference \n",
    "    # of all possible pairs in given array\n",
    "    for i in range(n-1): \n",
    "        for j in range(i+1,n): \n",
    "            if abs(list_num[i]-list_num[j]) < mindiff: \n",
    "                mindiff = abs(list_num[i] - list_num[j])\n",
    "                indexDate1 = i\n",
    "                indexDate2 = j\n",
    "     \n",
    "    date1 = jsonData['dataset_data']['data'][indexDate1][0]\n",
    "    date2 = jsonData['dataset_data']['data'][indexDate2][0]\n",
    "  \n",
    "    # Return min diff \n",
    "    return mindiff, date1, date2\n",
    "   "
   ]
  },
  {
   "cell_type": "code",
   "execution_count": 24,
   "metadata": {},
   "outputs": [
    {
     "data": {
      "text/plain": [
       "([35.8, 35.48, 35.19], (0.28999999999999915, '2017-01-03', '2017-01-04'))"
      ]
     },
     "execution_count": 24,
     "metadata": {},
     "output_type": "execute_result"
    }
   ],
   "source": [
    "# Pre-task 5d\n",
    "closingPrices, findMinChange_Dates(closingPrices,json_data)"
   ]
  },
  {
   "cell_type": "code",
   "execution_count": 25,
   "metadata": {},
   "outputs": [
    {
     "data": {
      "text/plain": [
       "(0.3200000000000003, 0.6099999999999994, 0.28999999999999915)"
      ]
     },
     "execution_count": 25,
     "metadata": {},
     "output_type": "execute_result"
    }
   ],
   "source": [
    "# Just checking manually\n",
    "35.8-35.48, 35.8-35.19, 35.48-35.19"
   ]
  },
  {
   "cell_type": "code",
   "execution_count": 26,
   "metadata": {},
   "outputs": [],
   "source": [
    "# Pre-task 6a: What was the average daily trading volume?\n",
    "#\n",
    "# Define a function to find the mean of numbers of a list\n",
    "def findMean(list_num):\n",
    "    n = len(list_num)\n",
    "    mean_list = sum(list_num)/n\n",
    "    \n",
    "    return mean_list"
   ]
  },
  {
   "cell_type": "code",
   "execution_count": 27,
   "metadata": {},
   "outputs": [
    {
     "data": {
      "text/plain": [
       "([44700.0, 70618.0, 54408.0], 56575.333333333336)"
      ]
     },
     "execution_count": 27,
     "metadata": {},
     "output_type": "execute_result"
    }
   ],
   "source": [
    "# Pre-task 6b\n",
    "tradingVolumes = extractColumn(json_data,'Traded Volume')    \n",
    "tradingVolumes, findMean(tradingVolumes)"
   ]
  },
  {
   "cell_type": "code",
   "execution_count": 28,
   "metadata": {},
   "outputs": [],
   "source": [
    "# Pre-task 7a (Optional): What was the median trading volume?\n",
    "#\n",
    "# Define a function to find the median of numbers of a list\n",
    "\n",
    "def findMedian(list_num):\n",
    "    n = len(list_num)\n",
    "    list_num = sorted(list_num)\n",
    "    if n % 2 == 0:\n",
    "        median1 = list_num[n//2]\n",
    "        median2 = list_num[n//2 - 1]\n",
    "        median_list = (median1 + median2)/2\n",
    "    else:\n",
    "        median_list = list_num[n//2]\n",
    "\n",
    "    return median_list\n",
    "\n"
   ]
  },
  {
   "cell_type": "code",
   "execution_count": 29,
   "metadata": {},
   "outputs": [
    {
     "data": {
      "text/plain": [
       "([44700.0, 70618.0, 54408.0], 54408.0)"
      ]
     },
     "execution_count": 29,
     "metadata": {},
     "output_type": "execute_result"
    }
   ],
   "source": [
    "tradingVolumes, findMedian(tradingVolumes)"
   ]
  },
  {
   "cell_type": "markdown",
   "metadata": {},
   "source": [
    "These are your tasks for this mini project:\n",
    "\n",
    "1. Collect data from the Franfurt Stock Exchange, for the ticker AFX_X, for the whole year 2017 (keep in mind that the date format is YYYY-MM-DD).\n",
    "2. Convert the returned JSON object into a Python dictionary.\n",
    "3. Calculate what the highest and lowest opening prices were for the stock in this period.\n",
    "4. What was the largest change in any one day (based on High and Low price)?\n",
    "5. What was the largest change between any two days (based on Closing Price)?\n",
    "6. What was the average daily trading volume during this year?\n",
    "7. (Optional) What was the median trading volume during this year. (Note: you may need to implement your own function for calculating the median.)"
   ]
  },
  {
   "cell_type": "markdown",
   "metadata": {},
   "source": [
    "### Task 1"
   ]
  },
  {
   "cell_type": "code",
   "execution_count": 30,
   "metadata": {},
   "outputs": [
    {
     "name": "stdout",
     "output_type": "stream",
     "text": [
      "https://www.quandl.com/api/v3/datasets/FSE/AFX_X/data.json?start_date=2017-01-01&end_date=2017-12-31&order=asc\n"
     ]
    }
   ],
   "source": [
    "# Task 1: Collect data from the Franfurt Stock Exchange, for the ticker AFX_X, for the \n",
    "# whole year 2017 (keep in mind that the date format is YYYY-MM-DD).\n",
    "\n",
    "# Instead of 2017, we are going to pull a little more data than 2017 for now and then \n",
    "# manipulate the extracted data later to perform the required analysis only over the\n",
    "# year 2017.\n",
    "\n",
    "start_date = '2017-01-01'\n",
    "end_date = '2017-12-31'\n",
    "url2017 = determine_url(start_date,end_date)\n",
    "print(url2017)"
   ]
  },
  {
   "cell_type": "code",
   "execution_count": 31,
   "metadata": {},
   "outputs": [
    {
     "data": {
      "text/plain": [
       "(requests.models.Response, 200)"
      ]
     },
     "execution_count": 31,
     "metadata": {},
     "output_type": "execute_result"
    }
   ],
   "source": [
    "# Make the request to get the webpage in the \"Response\" object, r2017.\n",
    "# Here, r2017 is the JSON Response object.\n",
    "\n",
    "r2017 = requests.get(url2017)\n",
    "type(r2017), r2017.status_code"
   ]
  },
  {
   "cell_type": "markdown",
   "metadata": {},
   "source": [
    "### Task 2"
   ]
  },
  {
   "cell_type": "code",
   "execution_count": 32,
   "metadata": {},
   "outputs": [
    {
     "data": {
      "text/plain": [
       "dict"
      ]
     },
     "execution_count": 32,
     "metadata": {},
     "output_type": "execute_result"
    }
   ],
   "source": [
    "# Task 2: Convert the returned JSON object into a Python dictionary.\n",
    "\n",
    "# Invoke the builtin JSON decoder to get the corresponding JSON data which is essentially\n",
    "# a Python dictionary\n",
    "\n",
    "json_data2017 = r2017.json()\n",
    "type(json_data2017)"
   ]
  },
  {
   "cell_type": "markdown",
   "metadata": {},
   "source": [
    "### Task 3"
   ]
  },
  {
   "cell_type": "code",
   "execution_count": 33,
   "metadata": {},
   "outputs": [],
   "source": [
    "# Task 3: Calculate what the highest and lowest opening prices were for the stock in this \n",
    "# period over the entire 2017.\n",
    "\n",
    "dates2017 = extractColumn(json_data2017,'Date')\n",
    "openingPrices2017 = extractColumn(json_data2017,'Open')\n",
    "closingPrices2017 = extractColumn(json_data2017,'Close') \n"
   ]
  },
  {
   "cell_type": "code",
   "execution_count": 34,
   "metadata": {},
   "outputs": [
    {
     "data": {
      "text/plain": [
       "(True, 255)"
      ]
     },
     "execution_count": 34,
     "metadata": {},
     "output_type": "execute_result"
    }
   ],
   "source": [
    "None in openingPrices2017, len(openingPrices2017)"
   ]
  },
  {
   "cell_type": "markdown",
   "metadata": {},
   "source": [
    "There are some missing values in opening prices!"
   ]
  },
  {
   "cell_type": "markdown",
   "metadata": {},
   "source": [
    "<u> **Note**</u> also that there are only records for 255 days of the entire yeasr 2017! Instead of filling all the values of the missing days, we will work with these 255 days. For this current mini-project, this is much better than filling all the missing days with data derived from the available 255 days because we are only focussing on estimating quantities like `maximum` price, `minimum` prices, price `range`, `mean`, `median`, and `average` daily trading volume. **Sensitivities** of these quantities with respect to the *derived* information from *available* infiormtion are either **theoretically** zero or **practically zero**."
   ]
  },
  {
   "cell_type": "code",
   "execution_count": 35,
   "metadata": {},
   "outputs": [
    {
     "data": {
      "text/plain": [
       "(False, 255)"
      ]
     },
     "execution_count": 35,
     "metadata": {},
     "output_type": "execute_result"
    }
   ],
   "source": [
    "None in closingPrices2017, len(closingPrices2017)"
   ]
  },
  {
   "cell_type": "markdown",
   "metadata": {},
   "source": [
    "Great! There are NO missing values in closing prices. Let's replace the missing opening prices by the closing prices of the previous day."
   ]
  },
  {
   "cell_type": "code",
   "execution_count": 36,
   "metadata": {},
   "outputs": [
    {
     "data": {
      "text/plain": [
       "(float, float)"
      ]
     },
     "execution_count": 36,
     "metadata": {},
     "output_type": "execute_result"
    }
   ],
   "source": [
    "# Just checking the type of data of the first elements of the opening price and closing price lists.\n",
    "\n",
    "type(openingPrices2017[0]), type(closingPrices2017[0])\n",
    "                                                   "
   ]
  },
  {
   "cell_type": "code",
   "execution_count": 37,
   "metadata": {},
   "outputs": [
    {
     "data": {
      "text/plain": [
       "(True, False)"
      ]
     },
     "execution_count": 37,
     "metadata": {},
     "output_type": "execute_result"
    }
   ],
   "source": [
    "isinstance(openingPrices2017[0], (float, int)), not isinstance(openingPrices2017[0], (float, int))\n"
   ]
  },
  {
   "cell_type": "code",
   "execution_count": 38,
   "metadata": {},
   "outputs": [
    {
     "name": "stdout",
     "output_type": "stream",
     "text": [
      "74\n",
      "75\n",
      "85\n"
     ]
    }
   ],
   "source": [
    "# Replace the missing elements of opening price by the closing price of the previous day\n",
    "#\n",
    "n_ele = len(openingPrices2017)\n",
    "\n",
    "for i in range(n_ele):\n",
    "    if not isinstance(openingPrices2017[i], (float, int)):\n",
    "        print(i)\n",
    "        openingPrices2017[i] = closingPrices2017[i-1]\n"
   ]
  },
  {
   "cell_type": "code",
   "execution_count": 39,
   "metadata": {},
   "outputs": [
    {
     "data": {
      "text/plain": [
       "(False, 255)"
      ]
     },
     "execution_count": 39,
     "metadata": {},
     "output_type": "execute_result"
    }
   ],
   "source": [
    "None in openingPrices2017, len(openingPrices2017)"
   ]
  },
  {
   "cell_type": "code",
   "execution_count": 40,
   "metadata": {},
   "outputs": [
    {
     "data": {
      "text/plain": [
       "((42.2, 42.2), (42.2, 42.2), (41.72, 41.72))"
      ]
     },
     "execution_count": 40,
     "metadata": {},
     "output_type": "execute_result"
    }
   ],
   "source": [
    "# Juct manually checking the values\n",
    "(openingPrices2017[74], closingPrices2017[73]), (openingPrices2017[75], closingPrices2017[74]), (openingPrices2017[85], closingPrices2017[84])"
   ]
  },
  {
   "cell_type": "markdown",
   "metadata": {},
   "source": [
    "Now, all missing values are replaced by the closing prices of the previous days."
   ]
  },
  {
   "cell_type": "code",
   "execution_count": 41,
   "metadata": {},
   "outputs": [
    {
     "name": "stdout",
     "output_type": "stream",
     "text": [
      "\u001b[1m\u001b[43mThe highest opening price was 53.11 on 2017-12-14.\u001b[0m\n",
      "\u001b[1m\u001b[43mThe lowest opening price was 34.0 on 2017-01-24.\u001b[0m\n"
     ]
    }
   ],
   "source": [
    "maxOpeningPrice = max(openingPrices2017)\n",
    "indexmaxDate = openingPrices2017.index(maxOpeningPrice)\n",
    "maxPriceDate = json_data2017['dataset_data']['data'][indexmaxDate][0]\n",
    "\n",
    "minOpeningPrice = min(openingPrices2017)\n",
    "indexminDate = openingPrices2017.index(minOpeningPrice)\n",
    "minPriceDate = json_data2017['dataset_data']['data'][indexminDate][0]\n",
    "\n",
    "print(fontstyle.BOLD + fontstyle.BACKGROUNDYELLOW + 'The highest opening price was', str(round(maxOpeningPrice,2)) + ' on ' + maxPriceDate + '.' + fontstyle.END)\n",
    "print(fontstyle.BOLD + fontstyle.BACKGROUNDYELLOW + 'The lowest opening price was', str(round(minOpeningPrice,2)) + ' on ' + minPriceDate + '.' + fontstyle.END)\n"
   ]
  },
  {
   "cell_type": "markdown",
   "metadata": {},
   "source": [
    "### Task 4"
   ]
  },
  {
   "cell_type": "code",
   "execution_count": 42,
   "metadata": {},
   "outputs": [
    {
     "name": "stdout",
     "output_type": "stream",
     "text": [
      "False 255\n",
      "False 255\n",
      "\u001b[1m\u001b[43mThe largest change was 2.81 on 2017-05-11.\u001b[0m\n"
     ]
    }
   ],
   "source": [
    "# Task 4: What was the largest change in any one day (based on High and Low price)?\n",
    "\n",
    "# High\n",
    "highPrices2017 = extractColumn(json_data2017,'High')\n",
    "print(None in highPrices2017, len(highPrices2017))\n",
    "\n",
    "# Low\n",
    "lowPrices2017 = extractColumn(json_data2017,'Low')\n",
    "print(None in lowPrices2017, len(lowPrices2017))\n",
    "\n",
    "largestChange2017, date = findMaxDiff_Date(highPrices2017,lowPrices2017,json_data2017)\n",
    "\n",
    "print(fontstyle.BOLD + fontstyle.BACKGROUNDYELLOW + 'The largest change was', str(round(largestChange2017,2)) + ' on ' + date + '.' + fontstyle.END)\n"
   ]
  },
  {
   "cell_type": "markdown",
   "metadata": {},
   "source": [
    "Note that there are NO missing values in High and Low prices."
   ]
  },
  {
   "cell_type": "markdown",
   "metadata": {},
   "source": [
    "### Task 5 (+ An additional task)"
   ]
  },
  {
   "cell_type": "code",
   "execution_count": 43,
   "metadata": {},
   "outputs": [
    {
     "name": "stdout",
     "output_type": "stream",
     "text": [
      "\u001b[1m\u001b[43mThe largest change in closing price between two successive days was 2.56. The dates were 2017-08-08 and 2017-08-09.\u001b[0m\n"
     ]
    }
   ],
   "source": [
    "# Task 5: What was the largest change between any two days (based on Closing Price)?\n",
    "# Here, we are going to find the maximum change between two **SUCCESSIVE** days and \n",
    "# the corresponding dates dates.\n",
    "\n",
    "largestChangefSuccessiveDays2017, date1, date2 = findMaxAbsDiffSuccessiveElements_Dates(closingPrices2017,json_data2017)\n",
    "\n",
    "print(fontstyle.BOLD + fontstyle.BACKGROUNDYELLOW + 'The largest change in closing price between two successive days was ' + str(round(largestChangefSuccessiveDays2017,2)) + '. The dates were ' + date1 + ' and ' + date2 + '.' + fontstyle.END)\n",
    "\n"
   ]
  },
  {
   "cell_type": "code",
   "execution_count": 44,
   "metadata": {},
   "outputs": [
    {
     "name": "stdout",
     "output_type": "stream",
     "text": [
      "\u001b[1m\u001b[43mThe range of closing prices was 19.03. The maximum and minimum price dates, respectively, were 2017-12-13 and 2017-01-23.\u001b[0m\n"
     ]
    }
   ],
   "source": [
    "closingPriceRange2017, maxPriceDate, minPriceDate = findRange_Dates(closingPrices2017,json_data2017)\n",
    "\n",
    "print(fontstyle.BOLD + fontstyle.BACKGROUNDYELLOW + 'The range of closing prices was ' + str(round(closingPriceRange2017,2)) + '. The maximum and minimum price dates, respectively, were ' + maxPriceDate + ' and ' + minPriceDate + '.' + fontstyle.END)\n"
   ]
  },
  {
   "cell_type": "code",
   "execution_count": 45,
   "metadata": {},
   "outputs": [
    {
     "name": "stdout",
     "output_type": "stream",
     "text": [
      "\u001b[1m\u001b[43m[Additional Task]. The minimum change in closing prices between any two days was 0.0. The dates were 2017-01-12 and 2017-01-18.\u001b[0m\n"
     ]
    }
   ],
   "source": [
    "minClosingPriceChange2017, datemin1, datemin2 = findMinChange_Dates(closingPrices2017,json_data2017)\n",
    "\n",
    "print(fontstyle.BOLD + fontstyle.BACKGROUNDYELLOW + '[Additional Task]. The minimum change in closing prices between any two days was ' + str(round(minClosingPriceChange2017,2)) + '. The dates were ' + datemin1 + ' and ' + datemin2 + '.' + fontstyle.END)\n"
   ]
  },
  {
   "cell_type": "code",
   "execution_count": 46,
   "metadata": {},
   "outputs": [
    {
     "data": {
      "text/plain": [
       "((8, 12), (34.9, 34.9))"
      ]
     },
     "execution_count": 46,
     "metadata": {},
     "output_type": "execute_result"
    }
   ],
   "source": [
    "(dates2017.index(datemin1), dates2017.index(datemin2)), (closingPrices2017[dates2017.index(datemin1)], closingPrices2017[dates2017.index(datemin2)])"
   ]
  },
  {
   "cell_type": "markdown",
   "metadata": {},
   "source": [
    "The closing prices on these two dates happen to be exactly same by chance!"
   ]
  },
  {
   "cell_type": "code",
   "execution_count": 47,
   "metadata": {},
   "outputs": [
    {
     "data": {
      "image/png": "[encoded data removed]",
      "text/plain": [
       "<Figure size 792x324 with 1 Axes>"
      ]
     },
     "metadata": {
      "needs_background": "light"
     },
     "output_type": "display_data"
    }
   ],
   "source": [
    "# Check the plot of closing prices to visually determine if the result of minimum change in \n",
    "# closing prices makes sense.\n",
    "\n",
    "# Make figure + axes\n",
    "fig, ax = plt.subplots(figsize=(11, 4.5),tight_layout=True)\n",
    "\n",
    "ax.plot(closingPrices2017,color='orange',linewidth=2)\n",
    "ax.set_ylabel('Closing Price',fontsize=12)\n",
    "\n",
    "# Rotate the labels\n",
    "[lab.set_rotation(30) for lab in ax.get_xticklabels()]\n",
    "\n",
    "# ------------------------------------------------------------------------------------------\n",
    "# Set the X-axis values using the matplotlib.pyplot.xticks() method\n",
    "# First, get the default values for ticks on x-axis simply by commenting out the \n",
    "# following three lines of codes written between two dashed (--) lines: one above \n",
    "# and another below.\n",
    "x = [0,50,100,150,200,250]\n",
    "x_new = [dates2017[x[i]] for i in range(len(x))]\n",
    "plt.xticks(x,x_new,fontsize=12)\n",
    "# ------------------------------------------------------------------------------------------\n",
    "\n",
    "plt.show()\n",
    "\n"
   ]
  },
  {
   "cell_type": "markdown",
   "metadata": {},
   "source": [
    "The time-series plot above is same as what we have seen earlier at the beginning of this notebook in the last figure under section **Steps to verify {database_code} and {dataset_code}**. This verifies that we have extracted the data from quandl.com correctly."
   ]
  },
  {
   "cell_type": "code",
   "execution_count": 48,
   "metadata": {},
   "outputs": [
    {
     "data": {
      "image/png": "[encoded data removed]",
      "text/plain": [
       "<Figure size 432x288 with 1 Axes>"
      ]
     },
     "metadata": {
      "needs_background": "light"
     },
     "output_type": "display_data"
    }
   ],
   "source": [
    "# Now zooming in the range of interest further !\n",
    "\n",
    "font = {'family': 'serif',\n",
    "        'color':  'darkred',\n",
    "        'weight': 'normal',\n",
    "        'size': 16,\n",
    "        }\n",
    "\n",
    "# Make figure + axes\n",
    "fig, ax = plt.subplots(tight_layout=True)\n",
    "\n",
    "ax.plot(closingPrices2017[0:13], 'o--')\n",
    "ax.plot([closingPrices2017[8]]*len(closingPrices2017[0:13]),'r-.',linewidth=0.5)\n",
    "ax.set_ylabel('Closing Price',fontsize=12)\n",
    "\n",
    "# Rotate the labels\n",
    "[lab.set_rotation(30) for lab in ax.get_xticklabels()]\n",
    "\n",
    "# ------------------------------------------------------------------------------------------\n",
    "# Set the X-axis values using the matplotlib.pyplot.xticks() method\n",
    "# First, get the default values for ticks on x-axis simply by commenting out the \n",
    "# following three lines of codes (within the two -- dashed lines)\n",
    "x = [0,2,4,6,8,10,12]\n",
    "x_new = [dates2017[x[i]] for i in range(len(x))]\n",
    "plt.xticks(x,x_new,fontsize=12)\n",
    "# ------------------------------------------------------------------------------------------\n",
    "\n",
    "plt.show()"
   ]
  },
  {
   "cell_type": "markdown",
   "metadata": {},
   "source": [
    "The plot also shows that the closing prices on the 2017-01-12 and 2017-01-18 simply happen to be exactly the same by sheer luck!"
   ]
  },
  {
   "cell_type": "code",
   "execution_count": 49,
   "metadata": {},
   "outputs": [
    {
     "data": {
      "text/plain": [
       "['2017-01-02',\n",
       " '2017-01-03',\n",
       " '2017-01-04',\n",
       " '2017-01-05',\n",
       " '2017-01-06',\n",
       " '2017-01-09',\n",
       " '2017-01-10',\n",
       " '2017-01-11',\n",
       " '2017-01-12',\n",
       " '2017-01-13',\n",
       " '2017-01-16',\n",
       " '2017-01-17',\n",
       " '2017-01-18']"
      ]
     },
     "execution_count": 49,
     "metadata": {},
     "output_type": "execute_result"
    }
   ],
   "source": [
    "# The data points of closing prices in the above plot correspond to the following dates\n",
    "dates2017[0:13]"
   ]
  },
  {
   "cell_type": "markdown",
   "metadata": {},
   "source": [
    "### Task 6"
   ]
  },
  {
   "cell_type": "code",
   "execution_count": 50,
   "metadata": {},
   "outputs": [
    {
     "name": "stdout",
     "output_type": "stream",
     "text": [
      "False 255\n",
      "\u001b[1m\u001b[43mThe average daily trading volume during 2017 was 89124.34.\u001b[0m\n"
     ]
    }
   ],
   "source": [
    "# Task 6: What was the average daily trading volume during this year of 2017?\n",
    "\n",
    "tradingVolumes2017 = extractColumn(json_data2017,'Traded Volume')\n",
    "print(None in tradingVolumes2017, len(tradingVolumes2017))\n",
    "meanTradingVolumes2017 = findMean(tradingVolumes2017)\n",
    "print(fontstyle.BOLD + fontstyle.BACKGROUNDYELLOW + 'The average daily trading volume during 2017 was', str(round(meanTradingVolumes2017,2)) + '.' + fontstyle.END)\n"
   ]
  },
  {
   "cell_type": "markdown",
   "metadata": {},
   "source": [
    "Note that there are NO missing values in daily trading volumes."
   ]
  },
  {
   "cell_type": "markdown",
   "metadata": {},
   "source": [
    "### Task 7 (Optional)"
   ]
  },
  {
   "cell_type": "code",
   "execution_count": 51,
   "metadata": {},
   "outputs": [
    {
     "name": "stdout",
     "output_type": "stream",
     "text": [
      "\u001b[1m\u001b[43mThe median daily trading volume during 2017 was 76286.0\u001b[0m\n"
     ]
    }
   ],
   "source": [
    "# Task 7 (Optional): What was the median trading volume during this year of 2017?\n",
    "\n",
    "medianTradingVolumes2017 = findMedian(tradingVolumes2017)\n",
    "print(fontstyle.BOLD + fontstyle.BACKGROUNDYELLOW + 'The median daily trading volume during 2017 was', str(medianTradingVolumes2017) + fontstyle.END)\n"
   ]
  },
  {
   "cell_type": "markdown",
   "metadata": {},
   "source": [
    "Median is less than mean. It means that the histogram or probability density function of `Traded Volume` is right skewed. We will now verify it below."
   ]
  },
  {
   "cell_type": "code",
   "execution_count": 52,
   "metadata": {},
   "outputs": [
    {
     "data": {
      "image/png": "[encoded data removed]",
      "text/plain": [
       "<Figure size 432x288 with 1 Axes>"
      ]
     },
     "metadata": {
      "needs_background": "light"
     },
     "output_type": "display_data"
    }
   ],
   "source": [
    "# Draw histogram to visually verify the mean and median\n",
    "# the histogram of the data\n",
    "\n",
    "n, bins, patches = plt.hist(tradingVolumes2017, 50, facecolor='g', alpha=0.5)\n",
    "plt.xlabel('Daily Traded Volume',fontsize=16)\n",
    "plt.ylabel('Probability',fontsize=16)\n",
    "plt.xlim(0, 250000)\n",
    "plt.ylim(0, 44)\n",
    "plt.grid(True)\n",
    "\n",
    "plt.plot(meanTradingVolumes2017,0.7,'ro')\n",
    "plt.text(1.01*meanTradingVolumes2017, 2, 'Average',fontdict=font)\n",
    "\n",
    "plt.plot(medianTradingVolumes2017,0.7,'ko')\n",
    "plt.text(0.5*medianTradingVolumes2017, 2, 'Median',fontdict=font)\n",
    "plt.show()"
   ]
  },
  {
   "cell_type": "code",
   "execution_count": 53,
   "metadata": {},
   "outputs": [
    {
     "data": {
      "text/plain": [
       "(array([ 8.,  0.,  9., 37., 43., 39., 31., 30., 15.,  9.,  3., 10.,  4.,\n",
       "         5.,  5.,  3.,  1.,  0.,  0.,  0.,  0.,  0.,  0.,  0.,  0.,  1.,\n",
       "         1.,  0.,  0.,  0.,  0.,  0.,  0.,  0.,  0.,  0.,  0.,  0.,  0.,\n",
       "         0.,  0.,  0.,  0.,  0.,  0.,  0.,  0.,  0.,  0.,  1.]),\n",
       " array([4.5000000e+01, 1.3451080e+04, 2.6857160e+04, 4.0263240e+04,\n",
       "        5.3669320e+04, 6.7075400e+04, 8.0481480e+04, 9.3887560e+04,\n",
       "        1.0729364e+05, 1.2069972e+05, 1.3410580e+05, 1.4751188e+05,\n",
       "        1.6091796e+05, 1.7432404e+05, 1.8773012e+05, 2.0113620e+05,\n",
       "        2.1454228e+05, 2.2794836e+05, 2.4135444e+05, 2.5476052e+05,\n",
       "        2.6816660e+05, 2.8157268e+05, 2.9497876e+05, 3.0838484e+05,\n",
       "        3.2179092e+05, 3.3519700e+05, 3.4860308e+05, 3.6200916e+05,\n",
       "        3.7541524e+05, 3.8882132e+05, 4.0222740e+05, 4.1563348e+05,\n",
       "        4.2903956e+05, 4.4244564e+05, 4.5585172e+05, 4.6925780e+05,\n",
       "        4.8266388e+05, 4.9606996e+05, 5.0947604e+05, 5.2288212e+05,\n",
       "        5.3628820e+05, 5.4969428e+05, 5.6310036e+05, 5.7650644e+05,\n",
       "        5.8991252e+05, 6.0331860e+05, 6.1672468e+05, 6.3013076e+05,\n",
       "        6.4353684e+05, 6.5694292e+05, 6.7034900e+05]))"
      ]
     },
     "execution_count": 53,
     "metadata": {},
     "output_type": "execute_result"
    }
   ],
   "source": [
    "n, bins"
   ]
  },
  {
   "cell_type": "markdown",
   "metadata": {},
   "source": [
    "The histogram or the probability density function plot does show that it is a positively skewed or right-skewed distribution with most values clustering around the left tail while the right tail is longer. The right tail actually extends beyond the value of 600,000. In fact, there are 2 data points with values between 300,000 and 400,000, and 1 data points between 600,000 and 700,000. These 3 points are not shown in the plot above."
   ]
  }
 ],
 "metadata": {
  "kernelspec": {
   "display_name": "Python 3",
   "language": "python",
   "name": "python3"
  },
  "language_info": {
   "codemirror_mode": {
    "name": "ipython",
    "version": 3
   },
   "file_extension": ".py",
   "mimetype": "text/x-python",
   "name": "python",
   "nbconvert_exporter": "python",
   "pygments_lexer": "ipython3",
   "version": "3.9.0"
  }
 },
 "nbformat": 4,
 "nbformat_minor": 4
}
